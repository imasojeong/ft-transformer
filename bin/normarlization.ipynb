{
 "cells": [
  {
   "cell_type": "code",
   "execution_count": 1,
   "metadata": {},
   "outputs": [],
   "source": [
    "import numpy as np\n",
    "import pandas as pd\n",
    "from sklearn.model_selection import train_test_split\n",
    "from sklearn.preprocessing import MinMaxScaler\n",
    "from imblearn.over_sampling import SMOTE\n",
    "\n",
    "\n",
    "# x = pd.read_csv('C:/Users/sojeong/Desktop/revisiting-models/data/EQ/x.csv')\n",
    "# x[:] = scaler.fit_transform(x[:])\n",
    "# print(x)\n",
    "\n",
    "data = np.loadtxt(\"C:/Users/sojeong/Desktop/revisiting-models/data/EQ/EQ.csv\", delimiter=\",\", skiprows=1, dtype=np.float32)\n",
    "# print(EQ)\n",
    "x = data[:,:61]\n",
    "y = data[:,61]\n",
    "\n",
    "# train, test, val 데이터 분리\n",
    "N_trainval, N_test, y_trainval, y_test = train_test_split(x, y, test_size=0.2, random_state=42)\n",
    "N_train, N_val, y_train, y_val = train_test_split(N_trainval, y_trainval, test_size=0.2, random_state=42)  # 0.25 x 0.8 = 0.2\n",
    "\n",
    "# 정규화\n",
    "scaler = MinMaxScaler()\n",
    "N_train[:] = scaler.fit_transform(N_train[:])\n",
    "N_test[:] = scaler.fit_transform(N_test[:])"
   ]
  },
  {
   "cell_type": "code",
   "execution_count": 3,
   "metadata": {},
   "outputs": [
    {
     "data": {
      "text/plain": [
       "(207, 61)"
      ]
     },
     "execution_count": 3,
     "metadata": {},
     "output_type": "execute_result"
    }
   ],
   "source": [
    "N_train.shape"
   ]
  },
  {
   "cell_type": "code",
   "execution_count": 6,
   "metadata": {},
   "outputs": [
    {
     "data": {
      "text/plain": [
       "(65, 61)"
      ]
     },
     "execution_count": 6,
     "metadata": {},
     "output_type": "execute_result"
    }
   ],
   "source": [
    "N_test.shape"
   ]
  }
 ],
 "metadata": {
  "interpreter": {
   "hash": "b1ba95a2fc7494955db32b33101c019a8551824e6253146b5cba7b3d7c04cf14"
  },
  "kernelspec": {
   "display_name": "Python 3.8.8 ('revisiting-models')",
   "language": "python",
   "name": "python3"
  },
  "language_info": {
   "codemirror_mode": {
    "name": "ipython",
    "version": 3
   },
   "file_extension": ".py",
   "mimetype": "text/x-python",
   "name": "python",
   "nbconvert_exporter": "python",
   "pygments_lexer": "ipython3",
   "version": "3.8.8"
  },
  "orig_nbformat": 4
 },
 "nbformat": 4,
 "nbformat_minor": 2
}
